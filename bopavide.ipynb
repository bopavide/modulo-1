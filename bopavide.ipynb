{
 "cells": [
  {
   "cell_type": "code",
   "execution_count": 1,
   "id": "ae3a666d",
   "metadata": {},
   "outputs": [
    {
     "name": "stdout",
     "output_type": "stream",
     "text": [
      "HELLO, WORD!\n"
     ]
    }
   ],
   "source": [
    "print(\"HELLO, WORD!\")"
   ]
  },
  {
   "cell_type": "code",
   "execution_count": 2,
   "id": "d3128ce1",
   "metadata": {},
   "outputs": [
    {
     "name": "stdout",
     "output_type": "stream",
     "text": [
      "HELLO, WORD! 64\n"
     ]
    }
   ],
   "source": [
    "print(\"HELLO, WORD!\", 8*8)"
   ]
  },
  {
   "cell_type": "code",
   "execution_count": 3,
   "id": "3184673d",
   "metadata": {},
   "outputs": [
    {
     "name": "stdout",
     "output_type": "stream",
     "text": [
      "inserisci il tuo nome:Mattia\n",
      "ciao, Mattia !\n"
     ]
    }
   ],
   "source": [
    "nome = input(\"inserisci il tuo nome:\")\n",
    "print(\"ciao,\", nome , \"!\")"
   ]
  },
  {
   "cell_type": "code",
   "execution_count": 4,
   "id": "00ef9db9",
   "metadata": {},
   "outputs": [
    {
     "name": "stdout",
     "output_type": "stream",
     "text": [
      "inserisci il nome della viaAccademia\n",
      "hai inserito Accademia\n"
     ]
    }
   ],
   "source": [
    "via=input(\"inserisci il nome della via\")\n",
    "print(\"hai inserito\",via)"
   ]
  },
  {
   "cell_type": "code",
   "execution_count": 5,
   "id": "7d70dc5e",
   "metadata": {},
   "outputs": [
    {
     "name": "stdout",
     "output_type": "stream",
     "text": [
      "inserisci il tuo nome: Andrea\n",
      "so che non è il tuo nome ora sto per farti auto-distruggere il tuo windows\n",
      "so che non è il tuo nome ora sto per farti auto-distruggere il tuo windows\n",
      "so che non è il tuo nome ora sto per farti auto-distruggere il tuo windows\n",
      "so che non è il tuo nome ora sto per farti auto-distruggere il tuo windows\n",
      "so che non è il tuo nome ora sto per farti auto-distruggere il tuo windows\n",
      "so che non è il tuo nome ora sto per farti auto-distruggere il tuo windows\n",
      "so che non è il tuo nome ora sto per farti auto-distruggere il tuo windows\n",
      "so che non è il tuo nome ora sto per farti auto-distruggere il tuo windows\n",
      "so che non è il tuo nome ora sto per farti auto-distruggere il tuo windows\n",
      "so che non è il tuo nome ora sto per farti auto-distruggere il tuo windows\n"
     ]
    }
   ],
   "source": [
    "nome = input(\"inserisci il tuo nome: \")\n",
    "for contatore  in range(10):\n",
    "    print(\"so che non è il tuo nome ora sto per farti auto-distruggere il tuo windows\")"
   ]
  },
  {
   "cell_type": "code",
   "execution_count": 6,
   "id": "55b8a605",
   "metadata": {},
   "outputs": [
    {
     "name": "stdout",
     "output_type": "stream",
     "text": [
      "inserisci il primo numero: 30\n",
      "inserisci il secondo numero: 2\n",
      "la somma è: 32\n"
     ]
    }
   ],
   "source": [
    "numero1 = int(input(\"inserisci il primo numero: \"))\n",
    "numero2 = int(input(\"inserisci il secondo numero: \"))\n",
    "somma = numero1 + numero2\n",
    "print(\"la somma è:\", somma)"
   ]
  },
  {
   "cell_type": "code",
   "execution_count": 7,
   "id": "7c78a79b",
   "metadata": {},
   "outputs": [
    {
     "name": "stdout",
     "output_type": "stream",
     "text": [
      "la sottrazione è: 28\n"
     ]
    }
   ],
   "source": [
    "sottrazione = numero1 - numero2\n",
    "print(\"la sottrazione è:\", sottrazione)"
   ]
  },
  {
   "cell_type": "code",
   "execution_count": 8,
   "id": "50c9781c",
   "metadata": {},
   "outputs": [
    {
     "name": "stdout",
     "output_type": "stream",
     "text": [
      "inserisci il primo numero: 4\n",
      "inserisci il secondo numero: 5\n",
      "la moltiplicazione è: 20\n"
     ]
    }
   ],
   "source": [
    "numero1 = int(input(\"inserisci il primo numero: \"))\n",
    "numero2 = int(input(\"inserisci il secondo numero: \"))\n",
    "moltiplicazione = numero1 * numero2\n",
    "print(\"la moltiplicazione è:\", moltiplicazione)"
   ]
  },
  {
   "cell_type": "code",
   "execution_count": 9,
   "id": "e8fc01b9",
   "metadata": {},
   "outputs": [
    {
     "name": "stdout",
     "output_type": "stream",
     "text": [
      "0\n",
      "1\n",
      "2\n",
      "3\n",
      "4\n",
      "5\n",
      "6\n",
      "7\n",
      "8\n",
      "9\n",
      "10\n",
      "11\n",
      "12\n",
      "13\n",
      "14\n",
      "15\n",
      "16\n",
      "17\n",
      "18\n",
      "19\n",
      "20\n",
      "21\n",
      "22\n",
      "23\n",
      "24\n",
      "25\n",
      "26\n",
      "27\n",
      "28\n",
      "29\n",
      "30\n",
      "31\n",
      "32\n",
      "33\n",
      "34\n",
      "35\n",
      "36\n",
      "37\n",
      "38\n",
      "39\n",
      "40\n",
      "41\n",
      "42\n",
      "43\n",
      "44\n",
      "45\n",
      "46\n",
      "47\n",
      "48\n",
      "49\n",
      "50\n",
      "51\n",
      "52\n",
      "53\n",
      "54\n",
      "55\n",
      "56\n",
      "57\n",
      "58\n",
      "59\n",
      "60\n",
      "61\n",
      "62\n",
      "63\n",
      "64\n",
      "65\n",
      "66\n",
      "67\n",
      "68\n",
      "69\n",
      "70\n",
      "71\n",
      "72\n",
      "73\n",
      "74\n",
      "75\n",
      "76\n",
      "77\n",
      "78\n",
      "79\n",
      "80\n",
      "81\n",
      "82\n",
      "83\n",
      "84\n",
      "85\n",
      "86\n",
      "87\n",
      "88\n",
      "89\n"
     ]
    }
   ],
   "source": [
    "for numero in range(90):\n",
    "    print(numero)"
   ]
  },
  {
   "cell_type": "code",
   "execution_count": 10,
   "id": "5816f639",
   "metadata": {},
   "outputs": [
    {
     "name": "stdout",
     "output_type": "stream",
     "text": [
      "inserisci l'operazione(+, -, *, /):+\n",
      "inserisci il primo numero: 4\n",
      "inserisci il secondo numero: 5\n",
      "il risultato è:  9.0\n"
     ]
    }
   ],
   "source": [
    "operazione = input(\"inserisci l'operazione(+, -, *, /):\")\n",
    "\n",
    "\n",
    "numero1 = float(input(\"inserisci il primo numero: \"))\n",
    "numero2 = float(input(\"inserisci il secondo numero: \"))\n",
    "\n",
    "if operazione == \"+\":\n",
    "    risultato = numero1 + numero2\n",
    "elif operazione == \"-\":\n",
    "    risultato = numero1 - numero2\n",
    "elif operazione == \"*\":\n",
    "    risultato = numero1 * numero2\n",
    "elif operazione == \"/\":\n",
    "    risultato = numero1 / numero2\n",
    "else:\n",
    "    risultato = \"operazione non valida\"\n",
    "print(\"il risultato è: \", risultato)"
   ]
  },
  {
   "cell_type": "code",
   "execution_count": 11,
   "id": "ebe410c7",
   "metadata": {},
   "outputs": [
    {
     "name": "stdout",
     "output_type": "stream",
     "text": [
      "inserisci l'operazione (+, -, *, /):-\n",
      "inserisci il primo numero: 10\n",
      "inserisci il secondo numero: 1\n",
      "il risultato è: 9\n"
     ]
    }
   ],
   "source": [
    "operazione = input(\"inserisci l'operazione (+, -, *, /):\")\n",
    "\n",
    "numero1 = int(input(\"inserisci il primo numero: \"))\n",
    "numero2 = int(input(\"inserisci il secondo numero: \"))\n",
    "\n",
    "if operazione == \"+\":\n",
    "    risultato = numero1+numero2\n",
    "elif operazione == \"-\":\n",
    "    risultato = numero1-numero2\n",
    "elif operazione == \"*\":\n",
    "    risultato = numero1*numero2\n",
    "elif operazione == \"/\":\n",
    "    risultato = numero1/numero2\n",
    "else:\n",
    "    risultato = \"operazione non valida\"\n",
    "    \n",
    "print(\"il risultato è:\", risultato)"
   ]
  },
  {
   "cell_type": "code",
   "execution_count": 12,
   "id": "3bf0e1fc",
   "metadata": {},
   "outputs": [
    {
     "name": "stdout",
     "output_type": "stream",
     "text": [
      "inserisci un numero intero positivo: 5\n",
      "1\n",
      "2\n",
      "3\n",
      "4\n",
      "5\n"
     ]
    }
   ],
   "source": [
    "n = int(input(\"inserisci un numero intero positivo: \"))\n",
    "\n",
    "for numero in range(1,n+1):\n",
    "    print(numero)"
   ]
  },
  {
   "cell_type": "code",
   "execution_count": 13,
   "id": "82de689f",
   "metadata": {},
   "outputs": [
    {
     "name": "stdout",
     "output_type": "stream",
     "text": [
      "inserisci un numero intero positivo: 10\n",
      "la somma dei primi 10 numeri interi è:  55\n"
     ]
    }
   ],
   "source": [
    "n = int(input(\"inserisci un numero intero positivo: \"))\n",
    "somma = 0 \n",
    "\n",
    "for numero in range(1 , n+1):\n",
    "    somma += numero \n",
    "print(\"la somma dei primi\", n, \"numeri interi è: \", somma)"
   ]
  },
  {
   "cell_type": "code",
   "execution_count": 14,
   "id": "f1346fd0",
   "metadata": {},
   "outputs": [
    {
     "name": "stdout",
     "output_type": "stream",
     "text": [
      "inserisci un numero intero positivo:50\n",
      "quadrati dei primi 50 numeri:\n",
      "il quadrato di 1 è 1\n",
      "il quadrato di 2 è 4\n",
      "il quadrato di 3 è 9\n",
      "il quadrato di 4 è 16\n",
      "il quadrato di 5 è 25\n",
      "il quadrato di 6 è 36\n",
      "il quadrato di 7 è 49\n",
      "il quadrato di 8 è 64\n",
      "il quadrato di 9 è 81\n",
      "il quadrato di 10 è 100\n",
      "il quadrato di 11 è 121\n",
      "il quadrato di 12 è 144\n",
      "il quadrato di 13 è 169\n",
      "il quadrato di 14 è 196\n",
      "il quadrato di 15 è 225\n",
      "il quadrato di 16 è 256\n",
      "il quadrato di 17 è 289\n",
      "il quadrato di 18 è 324\n",
      "il quadrato di 19 è 361\n",
      "il quadrato di 20 è 400\n",
      "il quadrato di 21 è 441\n",
      "il quadrato di 22 è 484\n",
      "il quadrato di 23 è 529\n",
      "il quadrato di 24 è 576\n",
      "il quadrato di 25 è 625\n",
      "il quadrato di 26 è 676\n",
      "il quadrato di 27 è 729\n",
      "il quadrato di 28 è 784\n",
      "il quadrato di 29 è 841\n",
      "il quadrato di 30 è 900\n",
      "il quadrato di 31 è 961\n",
      "il quadrato di 32 è 1024\n",
      "il quadrato di 33 è 1089\n",
      "il quadrato di 34 è 1156\n",
      "il quadrato di 35 è 1225\n",
      "il quadrato di 36 è 1296\n",
      "il quadrato di 37 è 1369\n",
      "il quadrato di 38 è 1444\n",
      "il quadrato di 39 è 1521\n",
      "il quadrato di 40 è 1600\n",
      "il quadrato di 41 è 1681\n",
      "il quadrato di 42 è 1764\n",
      "il quadrato di 43 è 1849\n",
      "il quadrato di 44 è 1936\n",
      "il quadrato di 45 è 2025\n",
      "il quadrato di 46 è 2116\n",
      "il quadrato di 47 è 2209\n",
      "il quadrato di 48 è 2304\n",
      "il quadrato di 49 è 2401\n",
      "il quadrato di 50 è 2500\n"
     ]
    }
   ],
   "source": [
    "n = int(input(\"inserisci un numero intero positivo:\"))\n",
    "print(\"quadrati dei primi\", n, \"numeri:\")\n",
    "\n",
    "for numero in range(1,n+1):\n",
    "    quadrato = numero **2\n",
    "    print(\"il quadrato di\", numero, \"è\", quadrato)"
   ]
  },
  {
   "cell_type": "code",
   "execution_count": 15,
   "id": "bb1e768b",
   "metadata": {},
   "outputs": [
    {
     "name": "stdout",
     "output_type": "stream",
     "text": [
      "inserisci un numero: 10\n",
      "10 è un numero pari.\n"
     ]
    }
   ],
   "source": [
    "numero = int(input(\"inserisci un numero: \"))\n",
    "if numero % 2 == 0:\n",
    "    print(numero, \"è un numero pari.\")\n",
    "else:\n",
    "    print(numero, \"è un numero dispari.\")"
   ]
  },
  {
   "cell_type": "code",
   "execution_count": 16,
   "id": "ee8c4b07",
   "metadata": {},
   "outputs": [
    {
     "name": "stdout",
     "output_type": "stream",
     "text": [
      "inserisci un numero positivo: 100\n",
      "il fattoriale di 100 è: 93326215443944152681699238856266700490715968264381621468592963895217599993229915608941463976156518286253697920827223758251185210916864000000000000000000000000\n"
     ]
    }
   ],
   "source": [
    "n = int(input(\"inserisci un numero positivo: \"))\n",
    "fattoriale = 1\n",
    "\n",
    "for numero in range(1 , n+1):\n",
    "    fattoriale *= numero\n",
    "print(\"il fattoriale di\", n, \"è:\", fattoriale)"
   ]
  },
  {
   "cell_type": "code",
   "execution_count": null,
   "id": "f3bbb719",
   "metadata": {},
   "outputs": [],
   "source": [
    "numeri = []\n",
    "n = int(input(\"quanti numeri vuoi inserire? \"))\n",
    "\n",
    "for i in range(n):\n",
    "    numero = float(input(\"inserisci un numero: \"))\n",
    "    numeri.append(numero)\n",
    "\n",
    "media = sum(numeri) / len(numeri)\n",
    "\n",
    "print(\"la media dei numeri inseriti è: \", media, numeri)"
   ]
  },
  {
   "cell_type": "code",
   "execution_count": null,
   "id": "81990dfa",
   "metadata": {},
   "outputs": [],
   "source": [
    "import random\n",
    "\n",
    "mosse = (\" carta, forbice, sasso\")\n",
    "\n",
    "computer mossa = random.choise(mosse):\n",
    "    \n",
    "print(\"venvenuto al gioco della morra cinese\")\n",
    "scelta giocatore = input(\"scegli tra: carta, forbice, sasso:\")"
   ]
  },
  {
   "cell_type": "code",
   "execution_count": null,
   "id": "1eab228d",
   "metadata": {},
   "outputs": [],
   "source": [
    "n = int(input(\"inserisci un numero intero positivo: \"))\n",
    "\n",
    "somma = 0\n",
    "\n",
    "for numero in range(2, 2 * n)"
   ]
  },
  {
   "cell_type": "code",
   "execution_count": null,
   "id": "65300799",
   "metadata": {},
   "outputs": [],
   "source": [
    "n=int(input(\"inserisci un numero intero: \"))\n",
    "\n",
    "fattoriale=1\n",
    "\n",
    "if n<0:\n",
    "    print(\"numero negativo\")\n",
    "elif n==0:\n",
    "    print(\"il fattoriale di zero è 1 per definizione\")\n",
    "else:\n",
    "    for numero in range(1,n+1):\n",
    "        fattoriale*=numero\n",
    "print(f\"il fattoriale di {n} è {fattoriale}\")"
   ]
  },
  {
   "cell_type": "code",
   "execution_count": null,
   "id": "ad488b7e",
   "metadata": {},
   "outputs": [],
   "source": [
    "n=int(input(\"inserisci un numero intero: \"))\n",
    "\n",
    "fattoriale=1\n",
    "\n",
    "if n<0:\n",
    "    print(\"numero negativo\")\n",
    "elif n==0:\n",
    "    print(\"il fattoriale di zero è 1 per definizione\")\n",
    "else:\n",
    "    for numero in range(1,n+1):\n",
    "        fattoriale*=numero\n",
    "        print(f\"il fattoriale di {n} è {fattoriale}\")\n",
    "        # se il print va messo nel ciclo for scrivera tutti i passagi fino alla soluzione"
   ]
  },
  {
   "cell_type": "code",
   "execution_count": null,
   "id": "f9b98d20",
   "metadata": {},
   "outputs": [],
   "source": [
    "# chiedere all utente di inderire un numero intero positivo N\n",
    "N = int(input(\"inserisci un numero intero positivo N: \"))\n",
    "\n",
    "# inizializzare la sommma a zero\n",
    "somma = 0\n",
    "\n",
    "#calcolare la somma dei primi N numeri pari\n",
    "for numero in range(2, 2* N + 1, 2):\n",
    "    somma += numero\n",
    "    \n",
    "print(f\"la somma dei primi {N} numeri pari è {somma}\")"
   ]
  },
  {
   "cell_type": "code",
   "execution_count": null,
   "id": "6475ae21",
   "metadata": {},
   "outputs": [],
   "source": [
    "# chiedere all utente di inderire un numero intero positivo N\n",
    "N = int(input(\"inserisci un numero intero positivo N: \"))\n",
    "lista=[]\n",
    "\n",
    "#calcolare la somma dei primi N numeri pari\n",
    "for numero in range(2, 2* N + 1, 2):\n",
    "    lista.append(numero)\n",
    "    \n",
    "print(lista)"
   ]
  },
  {
   "cell_type": "code",
   "execution_count": null,
   "id": "917dba91",
   "metadata": {},
   "outputs": [],
   "source": [
    "frase = input(\"inserisci una frase o una parola: \").lower()\n",
    "conteggio_vocali = 0\n",
    "vocali = \"aeiou\"\n",
    "for carattere in frase:\n",
    "    if carattere in vocali:\n",
    "        conteggio_vocali += 1\n",
    "print(f\"Nella frase inserita ci sono {conteggio_vocali} vocali\")"
   ]
  },
  {
   "cell_type": "code",
   "execution_count": null,
   "id": "3ffe1785",
   "metadata": {},
   "outputs": [],
   "source": [
    "import random\n",
    "\n",
    "numero_da_indovinare = random.randint(1, 100)\n",
    "tentativi = 0\n",
    "\n",
    "while True:\n",
    "    tentativo = int(input(\"indovina il numero(1-100): \"))\n",
    "    tentativi += 1\n",
    "    \n",
    "    if tentativo == numero_da_indovinare:\n",
    "        print(\"bravo! hai indovinato il numero\", numero_da_indovinare, \"in\", tentativi, \"tentativi\")\n",
    "        break\n",
    "    elif tentativo < numero_da_indovinare:\n",
    "              print(\"il numero è più grande.\")\n",
    "    else:\n",
    "              print(\"il numero è più piccolo\")\n",
    "              "
   ]
  },
  {
   "cell_type": "code",
   "execution_count": null,
   "id": "bff44861",
   "metadata": {},
   "outputs": [],
   "source": [
    "n = int(input(\"inserisci un numero intero: \"))\n",
    "fattoriale = 1\n",
    "if n<0:\n",
    "    print(\"numero negativo\")\n",
    "elif n==0:\n",
    "    print(\"il fattoriale di zero è 1 per definizione\")\n",
    "else:\n",
    "    for numero in range(1, n+1):\n",
    "        fattoriale*=numero\n",
    "print(f\"il fattoriale di {n} è {fattoriale}\")"
   ]
  },
  {
   "cell_type": "code",
   "execution_count": null,
   "id": "ad1de5e9",
   "metadata": {},
   "outputs": [],
   "source": [
    "N = int(input(\"inserisci un numero intero positivo N\"))\n",
    "somma = 0\n",
    "for numero in range(2,2 * N + 1,2):\n",
    "    somma+=numero\n",
    "print(f\"la somma dei primi {N} numeri pari è {somma}\")"
   ]
  },
  {
   "cell_type": "code",
   "execution_count": null,
   "id": "1ef94c02",
   "metadata": {},
   "outputs": [],
   "source": [
    "frase = input(\"inserisci una frase o una parola: \").lower()\n",
    "conteggio_vocali = 0\n",
    "vocali =\"aeiou\"\n",
    "for carattere in frase:\n",
    "    if carattere in vocali:\n",
    "        conteggio_vocali+=1\n",
    "print(f\"nella frase inserita ci sono {conteggio_vocali} vocali.\")"
   ]
  },
  {
   "cell_type": "code",
   "execution_count": null,
   "id": "e90b2416",
   "metadata": {},
   "outputs": [],
   "source": [
    "import random \n",
    "numero_dado = random.randint(1,6)\n",
    "indovina = int(input(\"indovina il numero del dado (da 1 a 6): \"))\n",
    "if indovina< 1 or indovina > 6:\n",
    "    print(\"numero non ammesso\")\n",
    "elif indovina == numero_dado:\n",
    "    print(f\" complimenti il numero del dado era {numero_dado}. Hai indovinato!\")\n",
    "else:\n",
    "    print(f\"mi dispiace, il numero del dado era {numero_dado}. Meglio fortuna alla prossima volta\")"
   ]
  },
  {
   "cell_type": "code",
   "execution_count": null,
   "id": "fe3b856c",
   "metadata": {},
   "outputs": [],
   "source": [
    "popolazione = int(input(\"inserire popolazione iniziale: \"))\n",
    "anni = int(input(\"inserisci numero di anni da simulare: \"))\n",
    "tasso_natalità = float(input(\"inserisci tasso di natalità: \"))\n",
    "tasso_mortalità = float(input(\"inserisci tasso mortalità: \"))\n",
    "for anno in range(anni):\n",
    "    nascite = (popolazione * tasso_natalità) /100\n",
    "    morti = (popolazione * tasso_mortalità) /100\n",
    "    popolazione += (nascite - morti)\n",
    "    print(f\"anno {anno}: popolazione = {int(popolazione)}\")\n",
    "print(\"simulazione completata.\")"
   ]
  },
  {
   "cell_type": "code",
   "execution_count": null,
   "id": "d2c0f1f1",
   "metadata": {},
   "outputs": [],
   "source": [
    "import datetime \n",
    "today = datetime.datetime.today()\n",
    "print(f\" oggi è il giorno: {today: %d %m %Y} ore: {today: %H %M %S}\")"
   ]
  },
  {
   "cell_type": "code",
   "execution_count": null,
   "id": "03ab2638",
   "metadata": {},
   "outputs": [],
   "source": [
    "print(\" Benvenuto nel Convertitore di Unità di Misura!\")\n",
    "scelta = input(\"cosa desideri convertire? (metri/piedi/chilogrammi/libre): \").lower()\n",
    "if scelta == \"metri\":\n",
    "    valore = float(input(\"inserisci il valore in metri: \"))\n",
    "    print(f\"{valore} metri corrispondono a {risultato} piedi\")\n",
    "elif scelta == \"piedi\":\n",
    "    valore = float(input(\"inserisci il valore in piedi: \"))\n",
    "    print(f\"{valore} piedi corrispondono a {risultato} metri\")\n",
    "elif scelta == \"\":\n",
    "    valore = float(input(\"inserisci il valore in piedi: \"))\n",
    "    print(f\"{valore} piedi corrispondono a {risultato} metri\")"
   ]
  },
  {
   "cell_type": "code",
   "execution_count": null,
   "id": "4e27150f",
   "metadata": {},
   "outputs": [],
   "source": [
    "n = int(input(\"inserisci un numero n per calcolare l'n-esimo numero di fibonacci: \"))\n",
    "a=0\n",
    "b=1\n",
    "c=1\n",
    "if n<= 0:\n",
    "    print(\"il numero deve essere maggiore di zero.\")\n",
    "elif n == 1:\n",
    "    risultato = a \n",
    "else: \n",
    "    for iterazione in range(n-3):\n",
    "        a = b\n",
    "        b = c\n",
    "        c = a + b\n",
    "    risultato = c\n",
    "print(\"L' n-esimo numero di fibonacci è:\", risultato)"
   ]
  },
  {
   "cell_type": "code",
   "execution_count": null,
   "id": "72df088f",
   "metadata": {},
   "outputs": [],
   "source": [
    "def fibonacci(n):\n",
    "    fib_series =[0, 1]\n",
    "    while len(fib_series) < n:\n",
    "        fib_series.append(fib_series[-1] + fib_series[-2])\n",
    "    return fib_series  "
   ]
  },
  {
   "cell_type": "code",
   "execution_count": null,
   "id": "093384e0",
   "metadata": {},
   "outputs": [],
   "source": [
    "import math\n",
    "def calcola_area_cerchio(raggio):\n",
    "    return math.pi * (raggio ** 2)\n",
    "def calcola_area_rettangolo(base, altezza):\n",
    "    return base*altezza\n",
    "def calcola_area_triangolo(base, altezza):\n",
    "    return (base * altezza) / 2"
   ]
  },
  {
   "cell_type": "code",
   "execution_count": null,
   "id": "aa1e2ac2",
   "metadata": {},
   "outputs": [],
   "source": [
    "def calcola_bmi(peso, altezza):\n",
    "    return peso / (altezza ** 2)\n",
    "def valuta_bmi(bmi):\n",
    "    if bmi < 18.5:\n",
    "        return \"sottopeso\"\n",
    "    elif 18.5 <= bmi < 24.9:\n",
    "        return \"normopeso\"\n",
    "    elif 25 <= bmi < 29.4:\n",
    "        return \"obeso\"\n",
    "def main():\n",
    "    print(\"benvenuto nella calcolatrice bmi\")\n",
    "    peso = float(input(\"inserisci il tuo peso in chilogrammi:\"))\n",
    "    altezza = float(input(\"inserisci la tua altezza in metri:\"))\n",
    "    \n",
    "    bmi = calcola_bmi(peso, altezza)\n",
    "    valutazione = valuta_bmi(bmi)\n",
    "    \n",
    "    print(f\"il tuo bmi è {bmi:.2f}, sei classificato come '{valutazione}'.\")\n",
    "\n",
    "if __name__ == \"_main_\":\n",
    "    main()"
   ]
  },
  {
   "cell_type": "code",
   "execution_count": null,
   "id": "c357622c",
   "metadata": {},
   "outputs": [],
   "source": [
    "def metri_a_piedi(metri):\n",
    "    return metri * 3.28084\n",
    "def piedi_a_metri(piedi):\n",
    "    return piedi / 3.28084\n",
    "def chilogrammi_a_libbre(libbre):\n",
    "    return libbre / 2.20462\n",
    "\n",
    "def selezione(scelta):\n",
    "    if scelta == \"metri\":\n",
    "        valore = float(input(\"inserici il valore in metri: \"))\n",
    "        risultato = metri_a_piedi(valore)\n",
    "        print(f\"{valore: .3f} metri acorrispondono a {risultato: .3f} metri.\")\n",
    "    elif scelta == \"piedi\"\n",
    "        valore = float(input(\"inserici il valore in piedi: \"))\n",
    "        risultato = piedi_a_metri(valore)\n",
    "        print(f\"{valore: .3f} metri acorrispondono a {risultato: .3f} piedi.\")\n",
    "    elif scelta == \"chilogrammi\"\n",
    "        valore = float(input(\"inserici il valore in chilogrammi: \"))\n",
    "        risultato = piedi_a_metri(valore)\n",
    "        print(f\"{valore: .3f} metri acorrispondono a {risultato: .3f} piedi.\")"
   ]
  },
  {
   "cell_type": "code",
   "execution_count": null,
   "id": "3d47c6bd",
   "metadata": {},
   "outputs": [],
   "source": [
    "print(\"Benvenuto nella Calcolatrice di Aree!\")\n",
    "\n",
    "scelta = input(\"Vuoi calcolare L'area di un cerchio (c),rettangolo(r) o triangolo (t) \")\n",
    "\n",
    "if scelta == \"c\":\n",
    "    raggio = float(input(\"inserici il raggio del cerchio: \"))\n",
    "    area = calcola_area_cerchio(raggio)\n",
    "    print(f\"L'area del cerchio è {area: .2f}\")\n",
    "elif scelta == \"r\":\n",
    "    base = float(input(\"inserici la base del rettangolo: \"))\n",
    "    altezza = float(input(\"inserisci l'altezza del rettangolo: \"))\n",
    "    area = calcola_area_rettangolo(base, altezza)\n",
    "    print(f\"L'area del rettangolo è {area: .2f}\")\n",
    "elif scelta == \"t\":\n",
    "    base = float(input(\"inserici la base del triangolo: \"))\n",
    "    altezza = float(input(\"inserisci l'altezza del triangolo: \"))\n",
    "    area = calcola_area_triangolo(base, altezza)\n",
    "    print(f\"L'area del rettangolo è {area: .2f}\")\n",
    "else:\n",
    "    print(\"Scelta non valida. Si prega di inserire c , r o t. \")"
   ]
  },
  {
   "cell_type": "code",
   "execution_count": null,
   "id": "2396a48f",
   "metadata": {},
   "outputs": [],
   "source": [
    "def calcola_interessi(importo_iniziale , tasso_interesse, periodi_investimento):\n",
    "    importo_finale = importo_iniziale * (1 + tasso_interesse / 100) ** periodi_investimento\n",
    "    return importo_finale"
   ]
  },
  {
   "cell_type": "code",
   "execution_count": null,
   "id": "557243ca",
   "metadata": {},
   "outputs": [],
   "source": [
    "print(\"Benvenuto nel Calcolatore di Interessi!\")\n",
    "importo = float(input(\"inserisci l'importo iniziale: \"))\n",
    "tasso = float(input(\"inserisci il tasso di interesse annuale (%): \"))\n",
    "periodo = float(input(\"inserisci il periodo di investimento (anni): \"))\n",
    "importo_finale = calcola_interessi(importo , tasso , periodo)\n",
    "print(f\"L'importo finale dopo {periodo} anni è di {importo_finale: .2f} euro.\")"
   ]
  },
  {
   "cell_type": "code",
   "execution_count": null,
   "id": "41bc3998",
   "metadata": {},
   "outputs": [],
   "source": [
    "calcola_interessi(10000000,400,10)\n"
   ]
  },
  {
   "cell_type": "code",
   "execution_count": null,
   "id": "5d0d9888",
   "metadata": {},
   "outputs": [],
   "source": [
    "def forza_gravitazionale(m1, m2, r):\n",
    "    #Costante gravitazionale\n",
    "    G = 6.67430e-11 #N(m/kg)^2\n",
    "    \n",
    "    #calcolo della forza gravitazionale\n",
    "    F = (G * m1 * m2) / (r ** 2)\n",
    "    return F"
   ]
  },
  {
   "cell_type": "code",
   "execution_count": null,
   "id": "5cd07fee",
   "metadata": {},
   "outputs": [],
   "source": [
    "massa_terra = 5.972e24\n",
    "massa_luna = 7.342e22\n",
    "distanza_terra_luna = 384400000\n",
    "forza = forza_gravitazionale(massa_terra, massa_luna , distanza_terra_luna)\n",
    "print(f\"Forza gravitazionale tra la terra e la luna: {forza} Newton\")"
   ]
  },
  {
   "cell_type": "code",
   "execution_count": null,
   "id": "dab8d192",
   "metadata": {},
   "outputs": [],
   "source": [
    "from itertools import permutations\n",
    "k=0\n",
    "\n",
    "def trova_anagrammi(parola):\n",
    "    anagrammi = [\"\".join(p) for p in permutations(parola)]\n",
    "    return anagrammi\n",
    "\n",
    "\n",
    "print(\"Benvenuto nel Risolutore di Anagrammi!\")\n",
    "parola_input = input(\"inserisci una parola: \").strip().lower()\n",
    "if len(parola_input) < 2:\n",
    "    print(\"inserisci una parola con almeno 2 caratteri.\")\n",
    "else:\n",
    "    anagrammi = trova_anagrammi(parola_input)\n",
    "    for anagramma in anagrammi:\n",
    "        if anagramma != parola_input:\n",
    "            k+=1\n",
    "            print(anagramma)\n",
    "    print(f\"Gli anagrammi di '{parola_input}' sono:'{k}'\")"
   ]
  },
  {
   "cell_type": "code",
   "execution_count": null,
   "id": "9419587c",
   "metadata": {},
   "outputs": [],
   "source": [
    "tassi_di_cambio = {\n",
    "    \"dollari\":1.0,\n",
    "    \"euro\":0.85,\n",
    "    \"yen\":110.41,\n",
    "}\n",
    "\n",
    "importo = float(input(\"inserisci l'importo da convertire: \"))\n",
    "valuta_di_partenza = input(\"inserisci la valuta di partenza: \").lower()\n",
    "valuta_destinazione = input(\"inserisci la valuta di destinazione: \").lower()\n",
    "if valuta_di_partenza in tassi_di_cambio and valuta_destinazione in tassi_cambio:\n",
    "    tasso_di_cambio = tassi_di_cambio[valuta_destinazione] / tassi_di_cambio[valuta_di_partenza]\n",
    "    importo_convertito = importo * tasso_di_cambio"
   ]
  }
 ],
 "metadata": {
  "kernelspec": {
   "display_name": "Python 3 (ipykernel)",
   "language": "python",
   "name": "python3"
  },
  "language_info": {
   "codemirror_mode": {
    "name": "ipython",
    "version": 3
   },
   "file_extension": ".py",
   "mimetype": "text/x-python",
   "name": "python",
   "nbconvert_exporter": "python",
   "pygments_lexer": "ipython3",
   "version": "3.11.4"
  }
 },
 "nbformat": 4,
 "nbformat_minor": 5
}
